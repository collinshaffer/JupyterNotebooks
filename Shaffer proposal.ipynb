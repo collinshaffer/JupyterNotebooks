{
 "cells": [
  {
   "cell_type": "markdown",
   "metadata": {},
   "source": [
    "$\\newcommand{\\xv}{\\mathbf{x}}\n",
    "\\newcommand{\\Xv}{\\mathbf{X}}\n",
    "\\newcommand{\\yv}{\\mathbf{y}}\n",
    "\\newcommand{\\zv}{\\mathbf{z}}\n",
    "\\newcommand{\\av}{\\mathbf{a}}\n",
    "\\newcommand{\\Wv}{\\mathbf{W}}\n",
    "\\newcommand{\\wv}{\\mathbf{w}}\n",
    "\\newcommand{\\tv}{\\mathbf{t}}\n",
    "\\newcommand{\\Tv}{\\mathbf{T}}\n",
    "\\newcommand{\\muv}{\\boldsymbol{\\mu}}\n",
    "\\newcommand{\\sigmav}{\\boldsymbol{\\sigma}}\n",
    "\\newcommand{\\phiv}{\\boldsymbol{\\phi}}\n",
    "\\newcommand{\\Phiv}{\\boldsymbol{\\Phi}}\n",
    "\\newcommand{\\Sigmav}{\\boldsymbol{\\Sigma}}\n",
    "\\newcommand{\\Lambdav}{\\boldsymbol{\\Lambda}}\n",
    "\\newcommand{\\half}{\\frac{1}{2}}\n",
    "\\newcommand{\\argmax}[1]{\\underset{#1}{\\operatorname{argmax}}}\n",
    "\\newcommand{\\argmin}[1]{\\underset{#1}{\\operatorname{argmin}}}$"
   ]
  },
  {
   "cell_type": "markdown",
   "metadata": {},
   "source": [
    "# Project Proposal"
   ]
  },
  {
   "cell_type": "markdown",
   "metadata": {},
   "source": [
    "Collin Shaffer"
   ]
  },
  {
   "cell_type": "markdown",
   "metadata": {},
   "source": [
    "## Introduction"
   ]
  },
  {
   "cell_type": "markdown",
   "metadata": {},
   "source": [
    "Having a machine that you can talk to in English is, to me, one of the most exciting ideas in computer science. Today, Apple has Siri, Windows has Cortana, Amazon has Alexa, and most PCs have had some kind of text-to-speech program for a long time. But do they <i>really</i> understand?"
   ]
  },
  {
   "cell_type": "markdown",
   "metadata": {},
   "source": [
    "Machine learning in natural language processing is used in a variety of ways: for guessing context, sentence structure, sentiment, and so forth. But exctrating the meaning with enough clarity to rephrase, or explain using different words, would really let us know how well it understands."
   ]
  },
  {
   "cell_type": "markdown",
   "metadata": {},
   "source": [
    "I want to study how well a neural network can learn the meaning of a word through classifying words using a neural network and the least-complex-thesaurus equivalent as cluster centers, then have it respond in a menaningful way."
   ]
  },
  {
   "cell_type": "markdown",
   "metadata": {},
   "source": [
    "## Methods"
   ]
  },
  {
   "cell_type": "markdown",
   "metadata": {},
   "source": [
    "The dictionary data will use [this](https://github.com/adambom/dictionary) dataset found on GitHub, uploaded by user `adambom`. For thesaurus data I will use the Moby Thesaurus from the Moby Poroject, now made available for free by Project Gutenberg [here](https://www.gutenberg.org/files/3202/). There are also a few other intersting datasets from the [Institute for COgnitive iNformatics](http://icon.shef.ac.uk) including more from the original Moby Project.\n",
    "\n",
    "\"NLTK is a leading platform for building Python programs to work with human language data.\" - (http://www.nltk.org/)\n",
    "This looks like a promising tool; and there is a book I plan on comparing our ML techniques with."
   ]
  },
  {
   "cell_type": "markdown",
   "metadata": {},
   "source": [
    "## Possible Results\n",
    "\n",
    "My hope is that the NN will be able to understand, and respond to, small sentences."
   ]
  },
  {
   "cell_type": "markdown",
   "metadata": {},
   "source": [
    "## Timeline\n",
    "\n",
    "I will have the data be able to be read in by Tuesday, the first experiment will run by Wednesday, the analysis of said experiment and the running of the next experiment will be done by Friday. From there I can asses what else needs to be done to have it complete by the following Monday."
   ]
  }
 ],
 "metadata": {
  "kernelspec": {
   "display_name": "Python 3 (ipykernel)",
   "language": "python",
   "name": "python3"
  },
  "language_info": {
   "codemirror_mode": {
    "name": "ipython",
    "version": 3
   },
   "file_extension": ".py",
   "mimetype": "text/x-python",
   "name": "python",
   "nbconvert_exporter": "python",
   "pygments_lexer": "ipython3",
   "version": "3.12.5"
  }
 },
 "nbformat": 4,
 "nbformat_minor": 4
}
